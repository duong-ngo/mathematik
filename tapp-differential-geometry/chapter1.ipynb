{
 "cells": [
  {
   "cell_type": "markdown",
   "metadata": {},
   "source": [
    "# **Chapter 1. Curves**"
   ]
  },
  {
   "cell_type": "markdown",
   "metadata": {},
   "source": [
    "## **1. Parametrized Curves**"
   ]
  },
  {
   "cell_type": "code",
   "execution_count": null,
   "metadata": {},
   "outputs": [],
   "source": [
    "# exercise 1.12 (1) the lemniscate of Bernoulli\n",
    "\n",
    "from sympy import plot_parametric, symbols, cos, sin\n",
    "from math import pi\n",
    "\n",
    "t = symbols('t')\n",
    "\n",
    "x = cos(t) / (1 + sin(t) ** 2)\n",
    "y = (sin(t) * cos(t)) / (1 + sin(t) ** 2)\n",
    "\n",
    "plot_parametric((x, y), (t, 0, 2 * pi))"
   ]
  },
  {
   "cell_type": "code",
   "execution_count": null,
   "metadata": {},
   "outputs": [],
   "source": [
    "# exercise 1.12 (2) the deltoid curve\n",
    "\n",
    "from sympy import plot_parametric, symbols, cos, sin\n",
    "from math import pi\n",
    "\n",
    "t = symbols('t')\n",
    "n = 1\n",
    "\n",
    "x = 2 * n * cos(t) * (1 + cos(t)) - n\n",
    "y = 2 * n * sin(t) * (1 - cos(t))\n",
    "\n",
    "plot_parametric((x, y), (t, 0, 2 * pi))"
   ]
  },
  {
   "cell_type": "code",
   "execution_count": null,
   "metadata": {},
   "outputs": [],
   "source": [
    "# exercise 1.12 (3) the astroid curve\n",
    "\n",
    "from sympy import plot_parametric, symbols, cos, sin\n",
    "from math import pi\n",
    "\n",
    "t = symbols('t')\n",
    "c = 1\n",
    "\n",
    "x = c * cos(t) ** 3\n",
    "y = c * sin(t) ** 3\n",
    "\n",
    "plot_parametric((x, y), (t, 0, 2 * pi))"
   ]
  },
  {
   "cell_type": "code",
   "execution_count": null,
   "metadata": {},
   "outputs": [],
   "source": [
    "# exercise 1.12 (4) the epitrochoid\n",
    "\n",
    "from sympy import plot_parametric, symbols, cos, sin\n",
    "from math import pi\n",
    "\n",
    "t = symbols('t')\n",
    "c = 1\n",
    "n = 4\n",
    "\n",
    "x = cos(t) - c * cos(n * t)\n",
    "y = sin(t) - c * sin(n * t)\n",
    "\n",
    "plot_parametric((x, y), (t, 0, 2 * pi))"
   ]
  },
  {
   "cell_type": "code",
   "execution_count": null,
   "metadata": {},
   "outputs": [],
   "source": [
    "# exercise 1.13 (1) the toroidal spiral\n",
    "\n",
    "from sympy import symbols, cos, sin\n",
    "from sympy.plotting.plot import plot3d_parametric_line\n",
    "from math import pi\n",
    "\n",
    "t = symbols('t')\n",
    "n: int = 4\n",
    "\n",
    "x = (4 + sin(n * t)) * cos(t)\n",
    "y = (4 + sin(n * t)) * sin(t)\n",
    "z = cos(n * t)\n",
    "\n",
    "plot3d_parametric_line(x, y, z, (t, 0, 2 * pi))"
   ]
  },
  {
   "cell_type": "code",
   "execution_count": null,
   "metadata": {},
   "outputs": [],
   "source": [
    "# exercise 1.13 (2) the trefoil knot\n",
    "\n",
    "from sympy import symbols, cos, sin\n",
    "from sympy.plotting.plot import plot3d_parametric_line\n",
    "from math import pi\n",
    "\n",
    "t = symbols('t')\n",
    "n: int = 4\n",
    "\n",
    "x = (2 + cos(1.5 * t)) * cos(t)\n",
    "y = (2 + cos(1.5 * t)) * sin(t)\n",
    "z = sin(1.5 * t)\n",
    "\n",
    "plot3d_parametric_line(x, y, z, (t, 0, 4 * pi))"
   ]
  },
  {
   "cell_type": "code",
   "execution_count": null,
   "metadata": {},
   "outputs": [],
   "source": [
    "# exercise 1.13 (3) the twisted cubic\n",
    "\n",
    "from sympy import symbols\n",
    "from sympy.plotting.plot import plot3d_parametric_line\n",
    "from math import pi\n",
    "\n",
    "t = symbols('t')\n",
    "\n",
    "x = t\n",
    "y = t ** 2\n",
    "z = t ** 3\n",
    "\n",
    "plot3d_parametric_line(x, y, z, (t, -1, 1))"
   ]
  },
  {
   "cell_type": "markdown",
   "metadata": {},
   "source": [
    "## **2. The Inner Product**"
   ]
  },
  {
   "cell_type": "markdown",
   "metadata": {},
   "source": [
    "## **3. Acceleration**"
   ]
  },
  {
   "cell_type": "markdown",
   "metadata": {},
   "source": [
    "## **4. Reparametrization**"
   ]
  },
  {
   "cell_type": "markdown",
   "metadata": {},
   "source": [
    "## **5. Curvature**"
   ]
  },
  {
   "cell_type": "markdown",
   "metadata": {},
   "source": [
    "## **6. Plane Curves**"
   ]
  },
  {
   "cell_type": "markdown",
   "metadata": {},
   "source": [
    "## **7. Space Curves**"
   ]
  },
  {
   "cell_type": "markdown",
   "metadata": {},
   "source": [
    "## **8. Rigid Motions**"
   ]
  },
  {
   "cell_type": "markdown",
   "metadata": {},
   "source": [
    "## **9. Overview of Curvature Formulas**"
   ]
  }
 ],
 "metadata": {
  "kernelspec": {
   "display_name": "mathematik-BQqV7vJE",
   "language": "python",
   "name": "python3"
  },
  "language_info": {
   "codemirror_mode": {
    "name": "ipython",
    "version": 3
   },
   "file_extension": ".py",
   "mimetype": "text/x-python",
   "name": "python",
   "nbconvert_exporter": "python",
   "pygments_lexer": "ipython3",
   "version": "3.12.8"
  }
 },
 "nbformat": 4,
 "nbformat_minor": 2
}
